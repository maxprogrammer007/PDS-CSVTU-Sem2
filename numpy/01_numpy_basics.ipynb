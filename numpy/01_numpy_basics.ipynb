{
 "cells": [
  {
   "cell_type": "markdown",
   "id": "36b008e704dbf7eb",
   "metadata": {},
   "source": [
    "# Numpy\n",
    "## Numpy is a library for the Python programming language, adding support for large, Multi-dimensional arrays and matrices, along with a large collection of high-level mathematical functions to operate on these arrays.\n",
    "##\n",
    "## Numpy is the core library for scientific computing in Python. It provides a high-performance multidimensional array object, and tools for working with these arrays. If you are already familiar with MATLAB, you might find this tutorial useful to get started with Numpy.\n",
    "##\n",
    "## Numpy is a general-purpose array-processing package. It provides a high-performance multidimensional array object, and tools for working with these arrays. It is the fundamental package for scientific computing with Python.\n",
    "###  also has functions for working in domain of linear algebra, fourier transform, and matrices. \n",
    "  "
   ]
  },
  {
   "cell_type": "code",
   "execution_count": 68,
   "id": "ad251f14638628de",
   "metadata": {
    "ExecuteTime": {
     "end_time": "2024-05-28T08:52:03.040075Z",
     "start_time": "2024-05-28T08:52:03.036014Z"
    }
   },
   "outputs": [],
   "source": [
    "import numpy as np"
   ]
  },
  {
   "cell_type": "markdown",
   "id": "5c91126c60ffa846",
   "metadata": {},
   "source": [
    "## We have imported the numpy library as np. Now we can use the functions in the library by using np.function_name.\n",
    "## Arrays are stored in contiguous memory locations. They are faster than lists.\n",
    "## Arrays are mutable. We can change the values of the array.\n",
    "## Arrays are homogeneous. All the elements of the array should be of the same data type.]\n",
    "## Arrays are of fixed size. We cannot increase or decrease the size of the array.\n"
   ]
  },
  {
   "cell_type": "code",
   "execution_count": null,
   "id": "bbb1675fa6a51052",
   "metadata": {
    "ExecuteTime": {
     "end_time": "2024-05-28T08:52:03.559343Z",
     "start_time": "2024-05-28T08:52:03.554015Z"
    }
   },
   "outputs": [
    {
     "name": "stdout",
     "output_type": "stream",
     "text": [
      "[1 2 3 4 5]\n",
      "<class 'numpy.ndarray'>\n",
      "(5,)\n",
      "int32\n",
      "5\n",
      "1\n",
      "4\n"
     ]
    }
   ],
   "source": [
    "# Creating an array\n",
    "a = np.array([1,2,3,4,5])\n",
    "print(a) \n",
    "print(type(a)) # type of the array.\n",
    "print(a.shape) # shape of the array \n",
    "print(a.dtype) # data type of the array\n",
    "print(a.size) # number of elements in the array\n",
    "print(a.ndim) # number of dimensions of the array\n",
    "print(a.itemsize) # size of each element in the array\n"
   ]
  },
  {
   "cell_type": "code",
   "execution_count": 70,
   "id": "bc7a571526c65c8",
   "metadata": {
    "ExecuteTime": {
     "end_time": "2024-05-28T08:52:03.581332Z",
     "start_time": "2024-05-28T08:52:03.569972Z"
    }
   },
   "outputs": [
    {
     "name": "stdout",
     "output_type": "stream",
     "text": [
      "[ 7  9 11 13 15]\n"
     ]
    }
   ],
   "source": [
    "# Addition of arrays\n",
    "a = np.array([1,2,3,4,5])\n",
    "b = np.array([6,7,8,9,10])\n",
    "c = a + b\n",
    "print(c)"
   ]
  },
  {
   "cell_type": "code",
   "execution_count": 71,
   "id": "d361ec9ca7450a04",
   "metadata": {
    "ExecuteTime": {
     "end_time": "2024-05-28T08:52:03.624131Z",
     "start_time": "2024-05-28T08:52:03.619953Z"
    }
   },
   "outputs": [
    {
     "name": "stdout",
     "output_type": "stream",
     "text": [
      "[-5 -5 -5 -5 -5]\n"
     ]
    }
   ],
   "source": [
    "# Subtraction of arrays\n",
    "a = np.array([1,2,3,4,5])\n",
    "b = np.array([6,7,8,9,10])\n",
    "c = a - b\n",
    "print(c)"
   ]
  },
  {
   "cell_type": "code",
   "execution_count": 72,
   "id": "26d74dce47b598fc",
   "metadata": {
    "ExecuteTime": {
     "end_time": "2024-05-28T08:52:03.678785Z",
     "start_time": "2024-05-28T08:52:03.673667Z"
    }
   },
   "outputs": [
    {
     "name": "stdout",
     "output_type": "stream",
     "text": [
      "[ 6 14 24 36 50]\n"
     ]
    }
   ],
   "source": [
    "# Multiplication of arrays\n",
    "a = np.array([1,2,3,4,5])\n",
    "b = np.array([6,7,8,9,10])\n",
    "c = a * b\n",
    "print(c)"
   ]
  },
  {
   "cell_type": "code",
   "execution_count": 73,
   "id": "db4035467cf03053",
   "metadata": {
    "ExecuteTime": {
     "end_time": "2024-05-28T08:52:03.719453Z",
     "start_time": "2024-05-28T08:52:03.715237Z"
    }
   },
   "outputs": [
    {
     "name": "stdout",
     "output_type": "stream",
     "text": [
      "[0.16666667 0.28571429 0.375      0.44444444 0.5       ]\n"
     ]
    }
   ],
   "source": [
    "# Division of arrays\n",
    "a = np.array([1,2,3,4,5])\n",
    "b = np.array([6,7,8,9,10])\n",
    "c = a / b\n",
    "print(c)"
   ]
  },
  {
   "cell_type": "code",
   "execution_count": 74,
   "id": "f021506251d240d",
   "metadata": {
    "ExecuteTime": {
     "end_time": "2024-05-28T08:52:03.780625Z",
     "start_time": "2024-05-28T08:52:03.776929Z"
    }
   },
   "outputs": [
    {
     "name": "stdout",
     "output_type": "stream",
     "text": [
      "130\n"
     ]
    }
   ],
   "source": [
    "# Dot product of arrays\n",
    "a = np.array([1,2,3,4,5])\n",
    "b = np.array([6,7,8,9,10])\n",
    "c = np.dot(a,b)\n",
    "print(c)"
   ]
  },
  {
   "cell_type": "code",
   "execution_count": 75,
   "id": "660ca08b9717c2bf",
   "metadata": {
    "ExecuteTime": {
     "end_time": "2024-05-28T08:52:03.846475Z",
     "start_time": "2024-05-28T08:52:03.842187Z"
    }
   },
   "outputs": [
    {
     "name": "stdout",
     "output_type": "stream",
     "text": [
      "[[1 2 3]\n",
      " [4 5 6]\n",
      " [7 8 9]]\n"
     ]
    }
   ],
   "source": [
    "# Creating a 2D array\n",
    "a = np.array([[1,2,3],[4,5,6],[7,8,9]])\n",
    "print(a)\n"
   ]
  },
  {
   "cell_type": "code",
   "execution_count": 76,
   "id": "e1cd81e91e876486",
   "metadata": {
    "ExecuteTime": {
     "end_time": "2024-05-28T08:52:03.958622Z",
     "start_time": "2024-05-28T08:52:03.954950Z"
    }
   },
   "outputs": [
    {
     "name": "stdout",
     "output_type": "stream",
     "text": [
      "1\n",
      "2\n"
     ]
    }
   ],
   "source": [
    "# Accessing elements of a 2D array\n",
    "a = np.array([[1,2,3],[4,5,6],[7,8,9]])\n",
    "print(a[0,0]) # first element\n",
    "print(a[0,1]) # second element\n"
   ]
  },
  {
   "cell_type": "code",
   "execution_count": 77,
   "id": "afd150b06d804d4b",
   "metadata": {
    "ExecuteTime": {
     "end_time": "2024-05-28T08:52:03.996614Z",
     "start_time": "2024-05-28T08:52:03.991908Z"
    }
   },
   "outputs": [
    {
     "name": "stdout",
     "output_type": "stream",
     "text": [
      "[[1 2]\n",
      " [4 5]]\n"
     ]
    }
   ],
   "source": [
    "# Slicing of a 2D array\n",
    "a = np.array([[1,2,3],[4,5,6],[7,8,9]])\n",
    "print(a[0:2,0:2])  #irst two rows and first two columns"
   ]
  },
  {
   "cell_type": "code",
   "execution_count": 78,
   "id": "f509e379e16c222c",
   "metadata": {
    "ExecuteTime": {
     "end_time": "2024-05-28T08:52:04.077410Z",
     "start_time": "2024-05-28T08:52:04.072492Z"
    }
   },
   "outputs": [
    {
     "name": "stdout",
     "output_type": "stream",
     "text": [
      "[[1 2]\n",
      " [3 4]\n",
      " [5 6]\n",
      " [7 8]]\n"
     ]
    }
   ],
   "source": [
    "# Creating a 4 x 2 matrix\n",
    "a = np.array([[1,2],[3,4],[5,6],[7,8]])\n",
    "print(a)"
   ]
  },
  {
   "cell_type": "code",
   "execution_count": 79,
   "id": "f61d2959b6fb778f",
   "metadata": {
    "ExecuteTime": {
     "end_time": "2024-05-28T08:52:04.100456Z",
     "start_time": "2024-05-28T08:52:04.094495Z"
    }
   },
   "outputs": [
    {
     "name": "stdout",
     "output_type": "stream",
     "text": [
      "[[[ 1  2  3]\n",
      "  [ 4  5  6]]\n",
      "\n",
      " [[11 12 13]\n",
      "  [14 15 16]]]\n"
     ]
    }
   ],
   "source": [
    "# 3d Array\n",
    "c = np.array([[[1,2,3],[4,5,6]],[[11,12,13],[14,15,16]]])\n",
    "print(c)"
   ]
  },
  {
   "cell_type": "code",
   "execution_count": 80,
   "id": "87acd9ba181eaa43",
   "metadata": {
    "ExecuteTime": {
     "end_time": "2024-05-28T08:52:04.160102Z",
     "start_time": "2024-05-28T08:52:04.153427Z"
    }
   },
   "outputs": [
    {
     "name": "stdout",
     "output_type": "stream",
     "text": [
      "[False  True  True]\n",
      "[0.+0.j 2.+0.j 3.+0.j]\n"
     ]
    }
   ],
   "source": [
    "#dtype\n",
    "\n",
    "a = np.array([0,2,3],dtype=bool)\n",
    "print(a)\n",
    "b = np.array([0,2,3],dtype=complex)\n",
    "print(b)"
   ]
  },
  {
   "cell_type": "code",
   "execution_count": 81,
   "id": "5d4829575bb5b5aa",
   "metadata": {
    "ExecuteTime": {
     "end_time": "2024-05-28T08:52:04.216486Z",
     "start_time": "2024-05-28T08:52:04.211538Z"
    }
   },
   "outputs": [
    {
     "name": "stdout",
     "output_type": "stream",
     "text": [
      "[ 1  2  3  4  5  6  7  8  9 10]\n",
      "[1 3 5 7 9]\n"
     ]
    }
   ],
   "source": [
    "# np.arange\n",
    "a = np.arange(1,11)\n",
    "print(a)\n",
    "b = np.arange(1,11,2)\n",
    "print(b)"
   ]
  },
  {
   "cell_type": "code",
   "execution_count": 82,
   "id": "e4d2752902602832",
   "metadata": {
    "ExecuteTime": {
     "end_time": "2024-05-28T08:52:04.272997Z",
     "start_time": "2024-05-28T08:52:04.268575Z"
    }
   },
   "outputs": [
    {
     "data": {
      "text/plain": [
       "array([[ 1,  2,  3,  4,  5],\n",
       "       [ 6,  7,  8,  9, 10]])"
      ]
     },
     "execution_count": 82,
     "metadata": {},
     "output_type": "execute_result"
    }
   ],
   "source": [
    "# with reshape\n",
    "\n",
    "np.arange(1,11).reshape(2,5)\n"
   ]
  },
  {
   "cell_type": "code",
   "execution_count": 83,
   "id": "c49d6f15e1d1e3aa",
   "metadata": {
    "ExecuteTime": {
     "end_time": "2024-05-28T08:52:04.309947Z",
     "start_time": "2024-05-28T08:52:04.306325Z"
    }
   },
   "outputs": [
    {
     "name": "stdout",
     "output_type": "stream",
     "text": [
      "[[ 1  2]\n",
      " [ 3  4]\n",
      " [ 5  6]\n",
      " [ 7  8]\n",
      " [ 9 10]]\n"
     ]
    }
   ],
   "source": [
    "a =np.arange(1,11).reshape(5,2)\n",
    "print(a)\n"
   ]
  },
  {
   "cell_type": "code",
   "execution_count": 84,
   "id": "ad8ad0006bd04e20",
   "metadata": {
    "ExecuteTime": {
     "end_time": "2024-05-28T08:52:04.349384Z",
     "start_time": "2024-05-28T08:52:04.346312Z"
    }
   },
   "outputs": [
    {
     "name": "stdout",
     "output_type": "stream",
     "text": [
      "[[1. 1. 1.]\n",
      " [1. 1. 1.]\n",
      " [1. 1. 1.]]\n"
     ]
    }
   ],
   "source": [
    "# np.ones and np.zeros\n",
    "a = np.ones((3,3))\n",
    "print(a)"
   ]
  },
  {
   "cell_type": "code",
   "execution_count": 85,
   "id": "de8aba0fbc37222d",
   "metadata": {
    "ExecuteTime": {
     "end_time": "2024-05-28T08:52:04.430532Z",
     "start_time": "2024-05-28T08:52:04.427226Z"
    }
   },
   "outputs": [
    {
     "name": "stdout",
     "output_type": "stream",
     "text": [
      "[[0. 0. 0.]\n",
      " [0. 0. 0.]\n",
      " [0. 0. 0.]]\n"
     ]
    }
   ],
   "source": [
    "b = np.zeros((3,3))\n",
    "print(b)\n"
   ]
  },
  {
   "cell_type": "code",
   "execution_count": 86,
   "id": "a46982be62b0d6f9",
   "metadata": {
    "ExecuteTime": {
     "end_time": "2024-05-28T08:52:04.511259Z",
     "start_time": "2024-05-28T08:52:04.507311Z"
    }
   },
   "outputs": [],
   "source": [
    "# np.random\n",
    "a = np.random.random((3,3))"
   ]
  },
  {
   "cell_type": "code",
   "execution_count": 87,
   "id": "8fcb803c0c6b7b0a",
   "metadata": {
    "ExecuteTime": {
     "end_time": "2024-05-28T08:52:04.537073Z",
     "start_time": "2024-05-28T08:52:04.533651Z"
    }
   },
   "outputs": [
    {
     "name": "stdout",
     "output_type": "stream",
     "text": [
      "[[0.6728589  0.09794667 0.2942666 ]\n",
      " [0.24164844 0.85593302 0.09477387]\n",
      " [0.51547219 0.37220659 0.87810424]]\n"
     ]
    }
   ],
   "source": [
    "print(a)"
   ]
  },
  {
   "cell_type": "code",
   "execution_count": 88,
   "id": "4a2c9eea3359082a",
   "metadata": {
    "ExecuteTime": {
     "end_time": "2024-05-28T08:52:04.576312Z",
     "start_time": "2024-05-28T08:52:04.563173Z"
    }
   },
   "outputs": [
    {
     "name": "stdout",
     "output_type": "stream",
     "text": [
      "[ 1.    3.25  5.5   7.75 10.  ]\n"
     ]
    }
   ],
   "source": [
    "# np.linspace\n",
    "a = np.linspace(1,10,5) # 5 numbers between 1 and 10\n",
    "print(a)"
   ]
  },
  {
   "cell_type": "code",
   "execution_count": 89,
   "id": "ed89b4894de163d5",
   "metadata": {
    "ExecuteTime": {
     "end_time": "2024-05-28T08:52:04.613912Z",
     "start_time": "2024-05-28T08:52:04.610721Z"
    }
   },
   "outputs": [
    {
     "name": "stdout",
     "output_type": "stream",
     "text": [
      "[[1. 0. 0.]\n",
      " [0. 1. 0.]\n",
      " [0. 0. 1.]]\n"
     ]
    }
   ],
   "source": [
    "# np.eye\n",
    "a = np.eye(3) # 3 x 3 identity matrix\n",
    "print(a)"
   ]
  },
  {
   "cell_type": "code",
   "execution_count": 90,
   "id": "c935d26f21f8075f",
   "metadata": {
    "ExecuteTime": {
     "end_time": "2024-05-28T08:52:04.659910Z",
     "start_time": "2024-05-28T08:52:04.656458Z"
    }
   },
   "outputs": [
    {
     "name": "stdout",
     "output_type": "stream",
     "text": [
      "[[5 5 5]\n",
      " [5 5 5]\n",
      " [5 5 5]]\n"
     ]
    }
   ],
   "source": [
    "# np.full\n",
    "a = np.full((3,3),5) # 3 x 3 matrix with all elements as 5\n",
    "print(a)"
   ]
  },
  {
   "cell_type": "code",
   "execution_count": 91,
   "id": "3b6f721e0c3ce53e",
   "metadata": {
    "ExecuteTime": {
     "end_time": "2024-05-28T08:52:04.705301Z",
     "start_time": "2024-05-28T08:52:04.700504Z"
    }
   },
   "outputs": [
    {
     "name": "stdout",
     "output_type": "stream",
     "text": [
      "[[1. 0. 0.]\n",
      " [0. 1. 0.]\n",
      " [0. 0. 1.]]\n"
     ]
    }
   ],
   "source": [
    "# np.empty\n",
    "a = np.empty((3,3)) # 3 x 3 matrix with random values\n",
    "print(a)"
   ]
  },
  {
   "cell_type": "markdown",
   "id": "729feff63e3f3894",
   "metadata": {},
   "source": [
    "# Numpy Attributes\n"
   ]
  },
  {
   "cell_type": "code",
   "execution_count": 92,
   "id": "2a25b1c81974fbfc",
   "metadata": {
    "ExecuteTime": {
     "end_time": "2024-05-28T08:52:04.756267Z",
     "start_time": "2024-05-28T08:52:04.752655Z"
    }
   },
   "outputs": [
    {
     "name": "stdout",
     "output_type": "stream",
     "text": [
      "[0 1 2 3 4 5 6 7 8 9]\n",
      "[[ 0  1  2  3]\n",
      " [ 4  5  6  7]\n",
      " [ 8  9 10 11]]\n",
      "[[[ 0  1  2  3]\n",
      "  [ 4  5  6  7]\n",
      "  [ 8  9 10 11]]\n",
      "\n",
      " [[12 13 14 15]\n",
      "  [16 17 18 19]\n",
      "  [20 21 22 23]]]\n"
     ]
    }
   ],
   "source": [
    "a1 = np.arange(10) # 1D array\n",
    "print(a1)\n",
    "a2 = np.arange(12).reshape(3,4) # 2D array\n",
    "print(a2)\n",
    "a3 = np.arange(24).reshape(2,3,4) # 3D array\n",
    "print(a3)"
   ]
  },
  {
   "cell_type": "code",
   "execution_count": 93,
   "id": "981c4443135d39b8",
   "metadata": {
    "ExecuteTime": {
     "end_time": "2024-05-28T08:52:04.788978Z",
     "start_time": "2024-05-28T08:52:04.785345Z"
    }
   },
   "outputs": [
    {
     "name": "stdout",
     "output_type": "stream",
     "text": [
      "1\n",
      "2\n",
      "3\n"
     ]
    }
   ],
   "source": [
    "# ndim\n",
    "print(a1.ndim) # number of dimensions\n",
    "print(a2.ndim)\n",
    "print(a3.ndim)"
   ]
  },
  {
   "cell_type": "code",
   "execution_count": 94,
   "id": "61b08403f451ff5b",
   "metadata": {
    "ExecuteTime": {
     "end_time": "2024-05-28T08:52:04.865839Z",
     "start_time": "2024-05-28T08:52:04.862544Z"
    }
   },
   "outputs": [
    {
     "name": "stdout",
     "output_type": "stream",
     "text": [
      "(10,)\n",
      "(3, 4)\n",
      "(2, 3, 4)\n"
     ]
    }
   ],
   "source": [
    "# shape\n",
    "print(a1.shape) # number of elements in each dimension\n",
    "print(a2.shape)\n",
    "print(a3.shape)"
   ]
  },
  {
   "cell_type": "code",
   "execution_count": 95,
   "id": "5fab764508b9b168",
   "metadata": {
    "ExecuteTime": {
     "end_time": "2024-05-28T08:52:04.893807Z",
     "start_time": "2024-05-28T08:52:04.884104Z"
    }
   },
   "outputs": [
    {
     "name": "stdout",
     "output_type": "stream",
     "text": [
      "10\n",
      "12\n",
      "24\n"
     ]
    }
   ],
   "source": [
    "# size\n",
    "print(a1.size) # number of elements in the array\n",
    "print(a2.size)\n",
    "print(a3.size)"
   ]
  },
  {
   "cell_type": "code",
   "execution_count": 96,
   "id": "e40eb03d90696043",
   "metadata": {
    "ExecuteTime": {
     "end_time": "2024-05-28T08:52:04.960887Z",
     "start_time": "2024-05-28T08:52:04.956726Z"
    }
   },
   "outputs": [
    {
     "name": "stdout",
     "output_type": "stream",
     "text": [
      "4\n",
      "4\n",
      "4\n"
     ]
    }
   ],
   "source": [
    "# itemsize\n",
    "print(a1.itemsize) # size of each element in the array\n",
    "print(a2.itemsize)\n",
    "print(a3.itemsize)"
   ]
  },
  {
   "cell_type": "code",
   "execution_count": 97,
   "id": "3b1d5157a8174410",
   "metadata": {
    "ExecuteTime": {
     "end_time": "2024-05-28T08:52:05.027806Z",
     "start_time": "2024-05-28T08:52:05.024464Z"
    }
   },
   "outputs": [
    {
     "name": "stdout",
     "output_type": "stream",
     "text": [
      "int32\n",
      "int32\n",
      "int32\n"
     ]
    }
   ],
   "source": [
    "# dtype\n",
    "print(a1.dtype) # data type of the array\n",
    "print(a2.dtype)\n",
    "print(a3.dtype)"
   ]
  },
  {
   "cell_type": "markdown",
   "id": "bf807f6e11a2acae",
   "metadata": {},
   "source": [
    "# Changing Datatype of Array"
   ]
  },
  {
   "cell_type": "code",
   "execution_count": 98,
   "id": "cbe5df8117678818",
   "metadata": {
    "ExecuteTime": {
     "end_time": "2024-05-28T08:52:05.083397Z",
     "start_time": "2024-05-28T08:52:05.080331Z"
    }
   },
   "outputs": [
    {
     "data": {
      "text/plain": [
       "dtype('int32')"
      ]
     },
     "execution_count": 98,
     "metadata": {},
     "output_type": "execute_result"
    }
   ],
   "source": [
    "# astype\n",
    "a3.dtype"
   ]
  },
  {
   "cell_type": "code",
   "execution_count": 99,
   "id": "aed19e8306c8b27f",
   "metadata": {
    "ExecuteTime": {
     "end_time": "2024-05-28T08:52:05.124700Z",
     "start_time": "2024-05-28T08:52:05.120739Z"
    }
   },
   "outputs": [],
   "source": [
    "a3 = a3.astype(float)"
   ]
  },
  {
   "cell_type": "code",
   "execution_count": 100,
   "id": "67ab6f3de84f09b7",
   "metadata": {
    "ExecuteTime": {
     "end_time": "2024-05-28T08:52:05.187051Z",
     "start_time": "2024-05-28T08:52:05.183351Z"
    }
   },
   "outputs": [
    {
     "data": {
      "text/plain": [
       "dtype('float64')"
      ]
     },
     "execution_count": 100,
     "metadata": {},
     "output_type": "execute_result"
    }
   ],
   "source": [
    "a3.dtype"
   ]
  },
  {
   "cell_type": "markdown",
   "id": "af722b622f4eb509",
   "metadata": {},
   "source": [
    "# Array Operations"
   ]
  },
  {
   "cell_type": "code",
   "execution_count": 101,
   "id": "507703f36620d267",
   "metadata": {
    "ExecuteTime": {
     "end_time": "2024-05-28T08:52:05.215231Z",
     "start_time": "2024-05-28T08:52:05.211381Z"
    }
   },
   "outputs": [
    {
     "name": "stdout",
     "output_type": "stream",
     "text": [
      "[[ 0  1  2  3]\n",
      " [ 4  5  6  7]\n",
      " [ 8  9 10 11]]\n",
      "[[12 13 14 15]\n",
      " [16 17 18 19]\n",
      " [20 21 22 23]]\n"
     ]
    }
   ],
   "source": [
    "a1 = np.arange(12).reshape(3,4)\n",
    "a2 = np.arange(12,24).reshape(3,4)\n",
    "\n",
    "print(a1)\n",
    "print(a2)"
   ]
  },
  {
   "cell_type": "code",
   "execution_count": 102,
   "id": "f46ba05a28ccccb1",
   "metadata": {
    "ExecuteTime": {
     "end_time": "2024-05-28T08:52:05.268157Z",
     "start_time": "2024-05-28T08:52:05.265011Z"
    }
   },
   "outputs": [
    {
     "name": "stdout",
     "output_type": "stream",
     "text": [
      "[[ 2  3  4  5]\n",
      " [ 6  7  8  9]\n",
      " [10 11 12 13]]\n",
      "[[-2 -1  0  1]\n",
      " [ 2  3  4  5]\n",
      " [ 6  7  8  9]]\n",
      "[[ 0  2  4  6]\n",
      " [ 8 10 12 14]\n",
      " [16 18 20 22]]\n",
      "[[0.  0.5 1.  1.5]\n",
      " [2.  2.5 3.  3.5]\n",
      " [4.  4.5 5.  5.5]]\n"
     ]
    }
   ],
   "source": [
    "# Scalar operations\n",
    "\n",
    "# arithmetic operations\n",
    "print(a1 + 2)\n",
    "print(a1 - 2)\n",
    "print(a1 * 2)\n",
    "print(a1 / 2)\n"
   ]
  },
  {
   "cell_type": "code",
   "execution_count": 103,
   "id": "cd4b1ad14cbab764",
   "metadata": {
    "ExecuteTime": {
     "end_time": "2024-05-28T08:52:05.294153Z",
     "start_time": "2024-05-28T08:52:05.290501Z"
    }
   },
   "outputs": [
    {
     "name": "stdout",
     "output_type": "stream",
     "text": [
      "[[False False False False]\n",
      " [False False  True  True]\n",
      " [ True  True  True  True]]\n",
      "[[ True  True  True  True]\n",
      " [ True False False False]\n",
      " [False False False False]]\n",
      "[[False False False False]\n",
      " [False  True False False]\n",
      " [False False False False]]\n",
      "[[ True  True  True  True]\n",
      " [ True False  True  True]\n",
      " [ True  True  True  True]]\n"
     ]
    }
   ],
   "source": [
    "# relational operations\n",
    "print(a1 > 5)\n",
    "print(a1 < 5)\n",
    "print(a1 == 5)\n",
    "print(a1 != 5)\n"
   ]
  },
  {
   "cell_type": "code",
   "execution_count": 104,
   "id": "eb42d59cad53066d",
   "metadata": {
    "ExecuteTime": {
     "end_time": "2024-05-28T08:52:05.339764Z",
     "start_time": "2024-05-28T08:52:05.336594Z"
    }
   },
   "outputs": [
    {
     "name": "stdout",
     "output_type": "stream",
     "text": [
      "[[12 14 16 18]\n",
      " [20 22 24 26]\n",
      " [28 30 32 34]]\n",
      "[[-12 -12 -12 -12]\n",
      " [-12 -12 -12 -12]\n",
      " [-12 -12 -12 -12]]\n",
      "[[  0  13  28  45]\n",
      " [ 64  85 108 133]\n",
      " [160 189 220 253]]\n",
      "[[0.         0.07692308 0.14285714 0.2       ]\n",
      " [0.25       0.29411765 0.33333333 0.36842105]\n",
      " [0.4        0.42857143 0.45454545 0.47826087]]\n"
     ]
    }
   ],
   "source": [
    "# Vector operations\n",
    "\n",
    "# arithmetic operations\n",
    "print(a1 + a2)\n",
    "print(a1 - a2)\n",
    "print(a1 * a2)\n",
    "print(a1 / a2)\n",
    "    "
   ]
  },
  {
   "cell_type": "markdown",
   "id": "2417331d42e53ac0",
   "metadata": {},
   "source": [
    "# Numpy Functions"
   ]
  },
  {
   "cell_type": "code",
   "execution_count": 105,
   "id": "6061e7f961d76e43",
   "metadata": {
    "ExecuteTime": {
     "end_time": "2024-05-28T08:52:05.388151Z",
     "start_time": "2024-05-28T08:52:05.383537Z"
    }
   },
   "outputs": [
    {
     "name": "stdout",
     "output_type": "stream",
     "text": [
      "[[65. 24. 58.]\n",
      " [97. 52.  7.]\n",
      " [44. 15. 15.]]\n"
     ]
    }
   ],
   "source": [
    "a1 = np.random.random((3,3))\n",
    "a1 =np.round(a1*100) # round off the elements of the array \n",
    "print(a1)"
   ]
  },
  {
   "cell_type": "code",
   "execution_count": 106,
   "id": "c0cb8c4248300816",
   "metadata": {
    "ExecuteTime": {
     "end_time": "2024-05-28T08:52:05.459233Z",
     "start_time": "2024-05-28T08:52:05.455817Z"
    }
   },
   "outputs": [
    {
     "name": "stdout",
     "output_type": "stream",
     "text": [
      "97.0\n",
      "7.0\n",
      "377.0\n",
      "31627211616000.0\n"
     ]
    }
   ],
   "source": [
    "# max / min / sum / prod\n",
    "print(a1.max()) # maximum element\n",
    "print(a1.min()) # minimum element\n",
    "print(a1.sum()) # sum of all elements\n",
    "print(a1.prod()) # product of all elements"
   ]
  },
  {
   "cell_type": "code",
   "execution_count": 107,
   "id": "3d86bfee4c7a6c4e",
   "metadata": {
    "ExecuteTime": {
     "end_time": "2024-05-28T08:52:05.537967Z",
     "start_time": "2024-05-28T08:52:05.534021Z"
    }
   },
   "outputs": [
    {
     "name": "stdout",
     "output_type": "stream",
     "text": [
      "41.888888888888886\n",
      "44.0\n",
      "27.730626648544884\n",
      "768.9876543209878\n"
     ]
    }
   ],
   "source": [
    "# mean / median / std / var\n",
    "print(a1.mean()) # mean\n",
    "print(np.median(a1)) # median\n",
    "print(a1.std()) # standard deviation\n",
    "print(a1.var()) # variance"
   ]
  },
  {
   "cell_type": "code",
   "execution_count": 108,
   "id": "687cc2eceecb6f26",
   "metadata": {
    "ExecuteTime": {
     "end_time": "2024-05-28T08:52:05.612525Z",
     "start_time": "2024-05-28T08:52:05.607675Z"
    }
   },
   "outputs": [
    {
     "name": "stdout",
     "output_type": "stream",
     "text": [
      "[65. 97. 44.]\n"
     ]
    }
   ],
   "source": [
    "# For each row\n",
    "print(a1.max(axis=1)) # maximum element in each row\n",
    "# 1 -> row"
   ]
  },
  {
   "cell_type": "code",
   "execution_count": 109,
   "id": "4628f4bc56145ec4",
   "metadata": {
    "ExecuteTime": {
     "end_time": "2024-05-28T08:52:05.638531Z",
     "start_time": "2024-05-28T08:52:05.634817Z"
    }
   },
   "outputs": [
    {
     "name": "stdout",
     "output_type": "stream",
     "text": [
      "[97. 52. 58.]\n"
     ]
    }
   ],
   "source": [
    "# For each column\n",
    "print(a1.max(axis=0)) # maximum element in each column\n",
    "# 0 -> column"
   ]
  },
  {
   "cell_type": "code",
   "execution_count": 110,
   "id": "d79acac3ca909b8",
   "metadata": {
    "ExecuteTime": {
     "end_time": "2024-05-28T08:52:05.688431Z",
     "start_time": "2024-05-28T08:52:05.684967Z"
    }
   },
   "outputs": [
    {
     "name": "stdout",
     "output_type": "stream",
     "text": [
      "[[ 0.82682868 -0.90557836  0.99287265]\n",
      " [ 0.37960774  0.98662759  0.6569866 ]\n",
      " [ 0.01770193  0.65028784  0.65028784]]\n",
      "[[-0.56245385  0.42417901  0.11918014]\n",
      " [-0.92514754 -0.16299078  0.75390225]\n",
      " [ 0.99984331 -0.75968791 -0.75968791]]\n",
      "[[-1.47003826 -2.1348967   8.33085685]\n",
      " [-0.4103213  -6.05327238  0.87144798]\n",
      " [ 0.0177047  -0.8559934  -0.8559934 ]]\n"
     ]
    }
   ],
   "source": [
    "# trigonometric functions\n",
    "print(np.sin(a1))\n",
    "print(np.cos(a1))\n",
    "print(np.tan(a1))\n"
   ]
  },
  {
   "cell_type": "code",
   "execution_count": 111,
   "id": "8da85b776a95827e",
   "metadata": {
    "ExecuteTime": {
     "end_time": "2024-05-28T08:52:05.749362Z",
     "start_time": "2024-05-28T08:52:05.746124Z"
    }
   },
   "outputs": [
    {
     "name": "stdout",
     "output_type": "stream",
     "text": [
      "[[1.69488924e+28 2.64891221e+10 1.54553894e+25]\n",
      " [1.33833472e+42 3.83100800e+22 1.09663316e+03]\n",
      " [1.28516001e+19 3.26901737e+06 3.26901737e+06]]\n",
      "[[4.17438727 3.17805383 4.06044301]\n",
      " [4.57471098 3.95124372 1.94591015]\n",
      " [3.78418963 2.7080502  2.7080502 ]]\n",
      "[[1.81291336 1.38021124 1.76342799]\n",
      " [1.98677173 1.71600334 0.84509804]\n",
      " [1.64345268 1.17609126 1.17609126]]\n"
     ]
    }
   ],
   "source": [
    "# exponential functions\n",
    "print(np.exp(a1))\n",
    "print(np.log(a1))\n",
    "print(np.log10(a1)) # log base 10\n"
   ]
  },
  {
   "cell_type": "code",
   "execution_count": 112,
   "id": "3710080946844b62",
   "metadata": {
    "ExecuteTime": {
     "end_time": "2024-05-28T08:52:05.810072Z",
     "start_time": "2024-05-28T08:52:05.804104Z"
    }
   },
   "outputs": [
    {
     "data": {
      "text/plain": [
       "array([[ 86, 110, 134],\n",
       "       [302, 390, 478],\n",
       "       [518, 670, 822]])"
      ]
     },
     "execution_count": 112,
     "metadata": {},
     "output_type": "execute_result"
    }
   ],
   "source": [
    "# Dot Products\n",
    "a2 = np.arange(12).reshape(3,4)\n",
    "a3 = np.arange(12,24).reshape(3,4)\n",
    "np.dot(a2,a3.T) # dot product of two arrays a2 and a3 \n"
   ]
  },
  {
   "cell_type": "code",
   "execution_count": 113,
   "id": "82edefb69bd2329a",
   "metadata": {
    "ExecuteTime": {
     "end_time": "2024-05-28T08:52:05.843040Z",
     "start_time": "2024-05-28T08:52:05.838427Z"
    }
   },
   "outputs": [
    {
     "data": {
      "text/plain": [
       "array([[65., 97., 44.],\n",
       "       [24., 52., 15.],\n",
       "       [58.,  7., 15.]])"
      ]
     },
     "execution_count": 113,
     "metadata": {},
     "output_type": "execute_result"
    }
   ],
   "source": [
    "# Transpose\n",
    "a1.T\n"
   ]
  },
  {
   "cell_type": "code",
   "execution_count": 114,
   "id": "543b9927ab877765",
   "metadata": {
    "ExecuteTime": {
     "end_time": "2024-05-28T08:52:05.899764Z",
     "start_time": "2024-05-28T08:52:05.891402Z"
    }
   },
   "outputs": [
    {
     "data": {
      "text/plain": [
       "array([[-0.02111553, -0.01595395,  0.08909188],\n",
       "       [ 0.03588075,  0.04933212, -0.16176057],\n",
       "       [ 0.02605812, -0.00253386, -0.03290894]])"
      ]
     },
     "execution_count": 114,
     "metadata": {},
     "output_type": "execute_result"
    }
   ],
   "source": [
    "# Inverse\n",
    "np.linalg.inv(a1)\n"
   ]
  },
  {
   "cell_type": "code",
   "execution_count": 115,
   "id": "a58c499363acbb4d",
   "metadata": {
    "ExecuteTime": {
     "end_time": "2024-05-28T08:52:05.933515Z",
     "start_time": "2024-05-28T08:52:05.930112Z"
    }
   },
   "outputs": [
    {
     "name": "stdout",
     "output_type": "stream",
     "text": [
      "3.0\n",
      "3.0\n",
      "4.0\n"
     ]
    }
   ],
   "source": [
    "# round / floor / ceil\n",
    "print(np.round(3.14))\n",
    "print(np.floor(3.14))\n",
    "print(np.ceil(3.14))"
   ]
  },
  {
   "cell_type": "code",
   "execution_count": 116,
   "id": "14520231246c2e28",
   "metadata": {
    "ExecuteTime": {
     "end_time": "2024-05-28T08:52:05.981477Z",
     "start_time": "2024-05-28T08:52:05.977799Z"
    }
   },
   "outputs": [
    {
     "name": "stdout",
     "output_type": "stream",
     "text": [
      "[1 2 3 4 5]\n"
     ]
    }
   ],
   "source": [
    "# unique\n",
    "a1 = np.array([1,2,3,4,5,1,2,3,4,5])\n",
    "print(np.unique(a1)) # unique elements in the array\n"
   ]
  },
  {
   "cell_type": "markdown",
   "id": "504ed6c76483fce6",
   "metadata": {},
   "source": [
    "# Numpy Indexing and Slicing"
   ]
  },
  {
   "cell_type": "code",
   "execution_count": 117,
   "id": "c19abe7635bc720e",
   "metadata": {
    "ExecuteTime": {
     "end_time": "2024-05-28T08:52:06.037224Z",
     "start_time": "2024-05-28T08:52:06.034157Z"
    }
   },
   "outputs": [],
   "source": [
    "a1 = np.arange(10)\n",
    "a2 = np.arange(12).reshape(3,4)\n",
    "a3 = np.arange(24).reshape(2,3,4)"
   ]
  },
  {
   "cell_type": "code",
   "execution_count": 118,
   "id": "adf6da4b28dddaa4",
   "metadata": {
    "ExecuteTime": {
     "end_time": "2024-05-28T08:52:06.104413Z",
     "start_time": "2024-05-28T08:52:06.100188Z"
    }
   },
   "outputs": [
    {
     "name": "stdout",
     "output_type": "stream",
     "text": [
      "0\n",
      "9\n"
     ]
    }
   ],
   "source": [
    "print(a1[0]) # first element\n",
    "print(a1[-1]) # last element"
   ]
  },
  {
   "cell_type": "code",
   "execution_count": 119,
   "id": "14e7c180ee2ea97f",
   "metadata": {
    "ExecuteTime": {
     "end_time": "2024-05-28T08:52:06.135066Z",
     "start_time": "2024-05-28T08:52:06.132112Z"
    }
   },
   "outputs": [
    {
     "name": "stdout",
     "output_type": "stream",
     "text": [
      "0\n"
     ]
    }
   ],
   "source": [
    "print(a3[0,0,0]) # first element"
   ]
  },
  {
   "cell_type": "code",
   "execution_count": 120,
   "id": "1b125f9e8c9eef56",
   "metadata": {
    "ExecuteTime": {
     "end_time": "2024-05-28T08:52:06.166963Z",
     "start_time": "2024-05-28T08:52:06.163342Z"
    }
   },
   "outputs": [
    {
     "name": "stdout",
     "output_type": "stream",
     "text": [
      "[0 1 2 3 4]\n",
      "[0 1 2 3 4]\n",
      "[5 6 7 8 9]\n",
      "[0 2 4 6 8]\n"
     ]
    }
   ],
   "source": [
    "# Slicing \n",
    "print(a1[0:5]) # first five elements\n",
    "print(a1[:5]) # first five elements\n",
    "print(a1[5:]) # elements from index 5\n",
    "print(a1[::2]) # every second element\n"
   ]
  },
  {
   "cell_type": "code",
   "execution_count": 121,
   "id": "a105cc622aa0d842",
   "metadata": {
    "ExecuteTime": {
     "end_time": "2024-05-28T08:52:06.191737Z",
     "start_time": "2024-05-28T08:52:06.188407Z"
    }
   },
   "outputs": [
    {
     "name": "stdout",
     "output_type": "stream",
     "text": [
      "0\n",
      "[0 1]\n"
     ]
    }
   ],
   "source": [
    "# Slicing 2D array\n",
    "print(a2[0,0]) # first element\n",
    "print(a2[0,0:2]) # first row and first two columns\n"
   ]
  },
  {
   "cell_type": "code",
   "execution_count": 122,
   "id": "3a1b0a3747dae5f",
   "metadata": {
    "ExecuteTime": {
     "end_time": "2024-05-28T08:52:06.254547Z",
     "start_time": "2024-05-28T08:52:06.250432Z"
    }
   },
   "outputs": [
    {
     "name": "stdout",
     "output_type": "stream",
     "text": [
      "0\n",
      "[0 1]\n",
      "[[0 1]\n",
      " [4 5]]\n"
     ]
    }
   ],
   "source": [
    "# Slicing 3D array\n",
    "print(a3[0,0,0]) # first element\n",
    "print(a3[0,0,0:2]) # first row and first two columns\n",
    "print(a3[0,0:2,0:2]) # first two rows and first two columns\n"
   ]
  },
  {
   "cell_type": "code",
   "execution_count": 123,
   "id": "81cb3440af4f3c4",
   "metadata": {
    "ExecuteTime": {
     "end_time": "2024-05-28T08:52:06.278595Z",
     "start_time": "2024-05-28T08:52:06.273906Z"
    }
   },
   "outputs": [
    {
     "name": "stdout",
     "output_type": "stream",
     "text": [
      "[[0 1]]\n"
     ]
    }
   ],
   "source": [
    "# Printing corner elements of a 2D array\n",
    "print(a2[0:1,0:2]) # first two rows and first two columns\n"
   ]
  },
  {
   "cell_type": "markdown",
   "id": "2147b5334d81dc4e",
   "metadata": {},
   "source": [
    "# Iterating over Arrays"
   ]
  },
  {
   "cell_type": "code",
   "execution_count": 124,
   "id": "4903361d0bf348e0",
   "metadata": {
    "ExecuteTime": {
     "end_time": "2024-05-28T08:52:06.332988Z",
     "start_time": "2024-05-28T08:52:06.328386Z"
    }
   },
   "outputs": [
    {
     "data": {
      "text/plain": [
       "array([0, 1, 2, 3, 4, 5, 6, 7, 8, 9])"
      ]
     },
     "execution_count": 124,
     "metadata": {},
     "output_type": "execute_result"
    }
   ],
   "source": [
    "a1"
   ]
  },
  {
   "cell_type": "code",
   "execution_count": 125,
   "id": "486da72639ec5ce2",
   "metadata": {
    "ExecuteTime": {
     "end_time": "2024-05-28T08:52:06.347223Z",
     "start_time": "2024-05-28T08:52:06.343056Z"
    }
   },
   "outputs": [
    {
     "data": {
      "text/plain": [
       "array([[ 0,  1,  2,  3],\n",
       "       [ 4,  5,  6,  7],\n",
       "       [ 8,  9, 10, 11]])"
      ]
     },
     "execution_count": 125,
     "metadata": {},
     "output_type": "execute_result"
    }
   ],
   "source": [
    "a2"
   ]
  },
  {
   "cell_type": "code",
   "execution_count": 126,
   "id": "2210b6325269578c",
   "metadata": {
    "ExecuteTime": {
     "end_time": "2024-05-28T08:52:06.368082Z",
     "start_time": "2024-05-28T08:52:06.364505Z"
    }
   },
   "outputs": [
    {
     "name": "stdout",
     "output_type": "stream",
     "text": [
      "0\n",
      "1\n",
      "2\n",
      "3\n",
      "4\n",
      "5\n",
      "6\n",
      "7\n",
      "8\n",
      "9\n"
     ]
    }
   ],
   "source": [
    "for i in a1:\n",
    "    print(i)"
   ]
  },
  {
   "cell_type": "code",
   "execution_count": 127,
   "id": "de1ac71ecd381c9e",
   "metadata": {
    "ExecuteTime": {
     "end_time": "2024-05-28T08:52:06.430399Z",
     "start_time": "2024-05-28T08:52:06.426672Z"
    }
   },
   "outputs": [
    {
     "name": "stdout",
     "output_type": "stream",
     "text": [
      "[0 1 2 3]\n",
      "[4 5 6 7]\n",
      "[ 8  9 10 11]\n"
     ]
    }
   ],
   "source": [
    "for i in a2: \n",
    "    print(i) # row by row"
   ]
  },
  {
   "cell_type": "code",
   "execution_count": 128,
   "id": "c60cc9bbec982857",
   "metadata": {
    "ExecuteTime": {
     "end_time": "2024-05-28T08:52:06.478605Z",
     "start_time": "2024-05-28T08:52:06.475707Z"
    }
   },
   "outputs": [
    {
     "name": "stdout",
     "output_type": "stream",
     "text": [
      "0\n",
      "1\n",
      "2\n",
      "3\n",
      "4\n",
      "5\n",
      "6\n",
      "7\n",
      "8\n",
      "9\n",
      "10\n",
      "11\n"
     ]
    }
   ],
   "source": [
    "for i in a2.flat: # flatten the array\n",
    "    print(i)     # element by element"
   ]
  },
  {
   "cell_type": "code",
   "execution_count": 129,
   "id": "2ae39765c4b62f5",
   "metadata": {
    "ExecuteTime": {
     "end_time": "2024-05-28T08:52:06.532035Z",
     "start_time": "2024-05-28T08:52:06.528986Z"
    }
   },
   "outputs": [
    {
     "name": "stdout",
     "output_type": "stream",
     "text": [
      "0\n",
      "1\n",
      "2\n",
      "3\n",
      "4\n",
      "5\n",
      "6\n",
      "7\n",
      "8\n",
      "9\n",
      "10\n",
      "11\n"
     ]
    }
   ],
   "source": [
    "for i in np.nditer(a2): # default order\n",
    "    print(i)  # element by element"
   ]
  },
  {
   "cell_type": "code",
   "execution_count": 130,
   "id": "bbf3f403fa9e6bc1",
   "metadata": {
    "ExecuteTime": {
     "end_time": "2024-05-28T08:52:06.608156Z",
     "start_time": "2024-05-28T08:52:06.602602Z"
    }
   },
   "outputs": [
    {
     "name": "stdout",
     "output_type": "stream",
     "text": [
      "0\n",
      "4\n",
      "8\n",
      "1\n",
      "5\n",
      "9\n",
      "2\n",
      "6\n",
      "10\n",
      "3\n",
      "7\n",
      "11\n"
     ]
    }
   ],
   "source": [
    "for i in np.nditer(a2,order='F'): # Fortran order\n",
    "    print(i) #  column by column"
   ]
  },
  {
   "cell_type": "code",
   "execution_count": 131,
   "id": "134d68b3d05f38a8",
   "metadata": {
    "ExecuteTime": {
     "end_time": "2024-05-28T08:52:06.636870Z",
     "start_time": "2024-05-28T08:52:06.633460Z"
    }
   },
   "outputs": [
    {
     "name": "stdout",
     "output_type": "stream",
     "text": [
      "0\n",
      "1\n",
      "2\n",
      "3\n",
      "4\n",
      "5\n",
      "6\n",
      "7\n",
      "8\n",
      "9\n",
      "10\n",
      "11\n"
     ]
    }
   ],
   "source": [
    "for i in np.nditer(a2,order='C'): # C order\n",
    "    print(i) # row by row"
   ]
  },
  {
   "cell_type": "code",
   "execution_count": 132,
   "id": "34cf95d6fe093239",
   "metadata": {
    "ExecuteTime": {
     "end_time": "2024-05-28T08:52:06.676830Z",
     "start_time": "2024-05-28T08:52:06.673421Z"
    }
   },
   "outputs": [
    {
     "name": "stdout",
     "output_type": "stream",
     "text": [
      "[ 0  1  2  3  4  5  6  7  8  9 10 11]\n"
     ]
    }
   ],
   "source": [
    "for i in np.nditer(a2,flags=['external_loop']): # external loop \n",
    "     print(i) # row by row"
   ]
  },
  {
   "cell_type": "markdown",
   "id": "ab83d4ecf4450da3",
   "metadata": {},
   "source": [
    "# Reshaping Arrays\n"
   ]
  },
  {
   "cell_type": "code",
   "execution_count": 133,
   "id": "891dec7624718f2e",
   "metadata": {
    "ExecuteTime": {
     "end_time": "2024-05-28T08:52:06.719016Z",
     "start_time": "2024-05-28T08:52:06.705158Z"
    }
   },
   "outputs": [
    {
     "data": {
      "text/plain": [
       "array([[[ 0,  1,  2,  3],\n",
       "        [ 4,  5,  6,  7],\n",
       "        [ 8,  9, 10, 11]],\n",
       "\n",
       "       [[12, 13, 14, 15],\n",
       "        [16, 17, 18, 19],\n",
       "        [20, 21, 22, 23]]])"
      ]
     },
     "execution_count": 133,
     "metadata": {},
     "output_type": "execute_result"
    }
   ],
   "source": [
    "a3"
   ]
  },
  {
   "cell_type": "code",
   "execution_count": 135,
   "id": "a34d975eb754114a",
   "metadata": {
    "ExecuteTime": {
     "end_time": "2024-05-28T08:52:33.412972Z",
     "start_time": "2024-05-28T08:52:33.396557Z"
    }
   },
   "outputs": [
    {
     "data": {
      "text/plain": [
       "array([[ 0,  4,  8],\n",
       "       [ 1,  5,  9],\n",
       "       [ 2,  6, 10],\n",
       "       [ 3,  7, 11]])"
      ]
     },
     "execution_count": 135,
     "metadata": {},
     "output_type": "execute_result"
    }
   ],
   "source": [
    "a2.T # transpose the array "
   ]
  },
  {
   "cell_type": "code",
   "execution_count": 136,
   "id": "b148895e084780bf",
   "metadata": {
    "ExecuteTime": {
     "end_time": "2024-05-28T08:52:40.838345Z",
     "start_time": "2024-05-28T08:52:40.831508Z"
    }
   },
   "outputs": [
    {
     "data": {
      "text/plain": [
       "array([[ 0,  1,  2],\n",
       "       [ 3,  4,  5],\n",
       "       [ 6,  7,  8],\n",
       "       [ 9, 10, 11]])"
      ]
     },
     "execution_count": 136,
     "metadata": {},
     "output_type": "execute_result"
    }
   ],
   "source": [
    "a2.reshape(4,3) # reshape the array to 4 x 3"
   ]
  },
  {
   "cell_type": "code",
   "execution_count": 137,
   "id": "811501fc05227300",
   "metadata": {
    "ExecuteTime": {
     "end_time": "2024-05-28T08:53:51.286478Z",
     "start_time": "2024-05-28T08:53:51.273205Z"
    }
   },
   "outputs": [
    {
     "data": {
      "text/plain": [
       "array([ 0,  1,  2,  3,  4,  5,  6,  7,  8,  9, 10, 11])"
      ]
     },
     "execution_count": 137,
     "metadata": {},
     "output_type": "execute_result"
    }
   ],
   "source": [
    "# ravel\n",
    "\n",
    "a2.ravel() # flatten the array"
   ]
  },
  {
   "cell_type": "markdown",
   "id": "4fb2cc73573a4b05",
   "metadata": {},
   "source": [
    "# Stack Arrays"
   ]
  },
  {
   "cell_type": "code",
   "execution_count": 138,
   "id": "dfce2a360d233602",
   "metadata": {
    "ExecuteTime": {
     "end_time": "2024-05-28T08:55:38.974024Z",
     "start_time": "2024-05-28T08:55:38.961254Z"
    }
   },
   "outputs": [
    {
     "data": {
      "text/plain": [
       "array([1, 2, 3, 4, 5, 6])"
      ]
     },
     "execution_count": 138,
     "metadata": {},
     "output_type": "execute_result"
    }
   ],
   "source": [
    "# Horizontal Stack\n",
    "a1 = np.array([1,2,3])\n",
    "a2 = np.array([4,5,6])\n",
    "np.hstack((a1,a2))\n"
   ]
  },
  {
   "cell_type": "code",
   "execution_count": 139,
   "id": "c7a3691076753534",
   "metadata": {
    "ExecuteTime": {
     "end_time": "2024-05-28T08:56:01.025860Z",
     "start_time": "2024-05-28T08:56:01.021379Z"
    }
   },
   "outputs": [
    {
     "data": {
      "text/plain": [
       "array([[1, 2, 3],\n",
       "       [4, 5, 6]])"
      ]
     },
     "execution_count": 139,
     "metadata": {},
     "output_type": "execute_result"
    }
   ],
   "source": [
    "# Vertical Stack\n",
    "a1 = np.array([1,2,3])\n",
    "a2 = np.array([4,5,6])\n",
    "np.vstack((a1,a2))\n"
   ]
  },
  {
   "cell_type": "markdown",
   "id": "a641d52bfb1189e6",
   "metadata": {},
   "source": [
    "# Splitting Arrays"
   ]
  },
  {
   "cell_type": "code",
   "execution_count": 140,
   "id": "eba0225f774cf7af",
   "metadata": {
    "ExecuteTime": {
     "end_time": "2024-05-28T08:59:07.640736Z",
     "start_time": "2024-05-28T08:59:07.632969Z"
    }
   },
   "outputs": [
    {
     "data": {
      "text/plain": [
       "[array([0, 1, 2, 3, 4]), array([5, 6, 7, 8, 9])]"
      ]
     },
     "execution_count": 140,
     "metadata": {},
     "output_type": "execute_result"
    }
   ],
   "source": [
    "a1 = np.arange(10)\n",
    "np.split(a1,2) # split the array into two equal parts\n"
   ]
  },
  {
   "cell_type": "code",
   "execution_count": 141,
   "id": "7ecd99457691ab5f",
   "metadata": {
    "ExecuteTime": {
     "end_time": "2024-05-28T08:59:54.846217Z",
     "start_time": "2024-05-28T08:59:54.841988Z"
    }
   },
   "outputs": [
    {
     "data": {
      "text/plain": [
       "[array([[0, 1, 2, 3]]), array([[4, 5, 6, 7]]), array([[ 8,  9, 10, 11]])]"
      ]
     },
     "execution_count": 141,
     "metadata": {},
     "output_type": "execute_result"
    }
   ],
   "source": [
    "a2 = np.arange(12).reshape(3,4)\n",
    "np.vsplit(a2,3) # split the array into three equal parts"
   ]
  },
  {
   "cell_type": "code",
   "execution_count": 142,
   "id": "3666172d4df067ea",
   "metadata": {
    "ExecuteTime": {
     "end_time": "2024-05-28T09:00:12.325792Z",
     "start_time": "2024-05-28T09:00:12.322507Z"
    }
   },
   "outputs": [
    {
     "data": {
      "text/plain": [
       "[array([[0, 1],\n",
       "        [4, 5],\n",
       "        [8, 9]]),\n",
       " array([[ 2,  3],\n",
       "        [ 6,  7],\n",
       "        [10, 11]])]"
      ]
     },
     "execution_count": 142,
     "metadata": {},
     "output_type": "execute_result"
    }
   ],
   "source": [
    "np.hsplit(a2,2) # split the array into two equal parts"
   ]
  },
  {
   "cell_type": "markdown",
   "id": "ed63895e85a51e50",
   "metadata": {},
   "source": [
    "# End of the Notebook\n",
    "\n",
    "## Notebook by - Abhinav Shukla ( @Maxprogrammer007 )"
   ]
  }
 ],
 "metadata": {
  "kernelspec": {
   "display_name": "Python 3",
   "language": "python",
   "name": "python3"
  },
  "language_info": {
   "codemirror_mode": {
    "name": "ipython",
    "version": 2
   },
   "file_extension": ".py",
   "mimetype": "text/x-python",
   "name": "python",
   "nbconvert_exporter": "python",
   "pygments_lexer": "ipython2",
   "version": "2.7.6"
  }
 },
 "nbformat": 4,
 "nbformat_minor": 5
}
